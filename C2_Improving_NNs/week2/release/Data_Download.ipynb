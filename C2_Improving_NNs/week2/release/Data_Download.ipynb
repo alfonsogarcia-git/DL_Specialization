{
 "cells": [
  {
   "cell_type": "code",
   "execution_count": 1,
   "metadata": {},
   "outputs": [
    {
     "name": "stdout",
     "output_type": "stream",
     "text": [
      "W2A1/\n",
      "W2A1/W2A2.tar.gz\n",
      "W2A1/public_tests.py\n",
      "W2A1/.hidden\n",
      "W2A1/Optimization_methods.ipynb\n",
      "W2A1/.ipynb_checkpoints/\n",
      "W2A1/.ipynb_checkpoints/Data_Download-checkpoint.ipynb\n",
      "W2A1/testCases.py\n",
      "W2A1/images/\n",
      "W2A1/images/opt1.gif\n",
      "W2A1/images/cost.jpg\n",
      "W2A1/images/kiank_partition.png\n",
      "W2A1/images/kiank_sgd.png\n",
      "W2A1/images/lr.png\n",
      "W2A1/images/opt2.gif\n",
      "W2A1/images/Momentum.png\n",
      "W2A1/images/kiank_shuffle.png\n",
      "W2A1/images/opt_momentum.png\n",
      "W2A1/images/kiank_minibatch.png\n",
      "W2A1/Data_Download.ipynb\n",
      "W2A1/opt_utils_v1a.py\n",
      "W2A1/datasets/\n",
      "W2A1/datasets/data.mat\n"
     ]
    }
   ],
   "source": [
    "!tar cvzf W2A1.tar.gz W2A1/"
   ]
  },
  {
   "cell_type": "code",
   "execution_count": 6,
   "metadata": {},
   "outputs": [],
   "source": [
    "# Spliting the tar.gz file into 190MB parts to they can be downloaded\n",
    "# !split -b 190m MyImages.tar.gz MyImages.tar.gz.part."
   ]
  },
  {
   "cell_type": "code",
   "execution_count": 7,
   "metadata": {},
   "outputs": [],
   "source": [
    "# In local Terminal, go to the desired directory and run this code\n",
    "# !cat MyImages.tar.gz.part.* > MyImages.tar.gz"
   ]
  }
 ],
 "metadata": {
  "kernelspec": {
   "display_name": "Python 3",
   "language": "python",
   "name": "python3"
  },
  "language_info": {
   "codemirror_mode": {
    "name": "ipython",
    "version": 3
   },
   "file_extension": ".py",
   "mimetype": "text/x-python",
   "name": "python",
   "nbconvert_exporter": "python",
   "pygments_lexer": "ipython3",
   "version": "3.7.6"
  }
 },
 "nbformat": 4,
 "nbformat_minor": 2
}
