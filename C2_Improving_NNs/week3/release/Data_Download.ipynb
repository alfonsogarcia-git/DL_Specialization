{
 "cells": [
  {
   "cell_type": "code",
   "execution_count": 2,
   "metadata": {},
   "outputs": [
    {
     "name": "stdout",
     "output_type": "stream",
     "text": [
      "W3A1/\n",
      "W3A1/public_tests.py\n",
      "W3A1/improv_utils.py\n",
      "W3A1/Tensorflow_introduction.ipynb\n",
      "W3A1/.hidden\n",
      "W3A1/.ipynb_checkpoints/\n",
      "W3A1/images/\n",
      "W3A1/images/onehot.png\n",
      "W3A1/images/thumbs_up.jpg\n",
      "W3A1/images/hands.png\n",
      "W3A1/tf_utils.py\n",
      "W3A1/my.png\n",
      "W3A1/datasets/\n",
      "W3A1/datasets/train_signs.h5\n",
      "W3A1/datasets/test_signs.h5\n",
      "W3A1/logs/\n",
      "W3A1/logs/fit/\n",
      "W3A1/logs/fit/20200908-171311/\n",
      "W3A1/logs/fit/20200908-171311/train/\n",
      "W3A1/logs/fit/20200908-171311/train/plugins/\n",
      "W3A1/logs/fit/20200908-171311/train/plugins/profile/\n",
      "W3A1/logs/fit/20200908-171311/train/plugins/profile/2020_09_08_17_13_12/\n",
      "W3A1/logs/fit/20200908-171311/train/plugins/profile/2020_09_08_17_13_12/0838b7aa493f.trace.json.gz\n",
      "W3A1/logs/fit/20200908-171311/train/plugins/profile/2020_09_08_17_13_12/0838b7aa493f.memory_profile.json.gz\n",
      "W3A1/logs/fit/20200908-171311/train/plugins/profile/2020_09_08_17_13_12/0838b7aa493f.xplane.pb\n",
      "W3A1/logs/fit/20200908-171311/train/plugins/profile/2020_09_08_17_13_12/0838b7aa493f.kernel_stats.pb\n",
      "W3A1/logs/fit/20200908-171311/train/plugins/profile/2020_09_08_17_13_12/0838b7aa493f.overview_page.pb\n",
      "W3A1/logs/fit/20200908-171311/train/plugins/profile/2020_09_08_17_13_12/0838b7aa493f.tensorflow_stats.pb\n",
      "W3A1/logs/fit/20200908-171311/train/plugins/profile/2020_09_08_17_13_12/0838b7aa493f.input_pipeline.pb\n",
      "W3A1/logs/fit/20200908-171311/train/events.out.tfevents.1599585192.0838b7aa493f.43.44362.v2\n",
      "W3A1/logs/fit/20200908-171311/train/events.out.tfevents.1599585192.0838b7aa493f.profile-empty\n",
      "W3A1/logs/fit/20200908-171311/validation/\n",
      "W3A1/logs/fit/20200908-171311/validation/events.out.tfevents.1599585199.0838b7aa493f.43.48647.v2\n",
      "W3A1/test_utils.py\n"
     ]
    }
   ],
   "source": [
    "!tar cvzf W3A1.tar.gz W3A1/"
   ]
  },
  {
   "cell_type": "code",
   "execution_count": 6,
   "metadata": {},
   "outputs": [],
   "source": [
    "# Spliting the tar.gz file into 190MB parts to they can be downloaded\n",
    "# !split -b 190m MyImages.tar.gz MyImages.tar.gz.part."
   ]
  },
  {
   "cell_type": "code",
   "execution_count": 7,
   "metadata": {},
   "outputs": [],
   "source": [
    "# In local Terminal, go to the desired directory and run this code\n",
    "# !cat MyImages.tar.gz.part.* > MyImages.tar.gz"
   ]
  }
 ],
 "metadata": {
  "kernelspec": {
   "display_name": "Python 3",
   "language": "python",
   "name": "python3"
  },
  "language_info": {
   "codemirror_mode": {
    "name": "ipython",
    "version": 3
   },
   "file_extension": ".py",
   "mimetype": "text/x-python",
   "name": "python",
   "nbconvert_exporter": "python",
   "pygments_lexer": "ipython3",
   "version": "3.7.6"
  }
 },
 "nbformat": 4,
 "nbformat_minor": 2
}
