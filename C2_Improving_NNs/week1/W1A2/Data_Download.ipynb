{
 "cells": [
  {
   "cell_type": "code",
   "execution_count": 2,
   "metadata": {},
   "outputs": [
    {
     "name": "stdout",
     "output_type": "stream",
     "text": [
      "W1A2/\n",
      "W1A2/Regularization.ipynb\n",
      "W1A2/public_tests.py\n",
      "W1A2/.hidden\n",
      "W1A2/.ipynb_checkpoints/\n",
      "W1A2/testCases.py\n",
      "W1A2/images/\n",
      "W1A2/images/field_kiank.png\n",
      "W1A2/images/dropout1_kiank.mp4\n",
      "W1A2/images/dropout2_kiank.mp4\n",
      "W1A2/datasets/\n",
      "W1A2/datasets/data.mat\n",
      "W1A2/datasets/train_catvnoncat.h5\n",
      "W1A2/datasets/test_catvnoncat.h5\n",
      "W1A2/reg_utils.py\n"
     ]
    }
   ],
   "source": [
    "!tar cvzf W1A2.tar.gz W1A2/"
   ]
  },
  {
   "cell_type": "code",
   "execution_count": 6,
   "metadata": {},
   "outputs": [],
   "source": [
    "# Spliting the tar.gz file into 190MB parts to they can be downloaded\n",
    "# !split -b 190m MyImages.tar.gz MyImages.tar.gz.part."
   ]
  },
  {
   "cell_type": "code",
   "execution_count": 7,
   "metadata": {},
   "outputs": [],
   "source": [
    "# In local Terminal, go to the desired directory and run this code\n",
    "# !cat MyImages.tar.gz.part.* > MyImages.tar.gz"
   ]
  }
 ],
 "metadata": {
  "kernelspec": {
   "display_name": "Python 3",
   "language": "python",
   "name": "python3"
  },
  "language_info": {
   "codemirror_mode": {
    "name": "ipython",
    "version": 3
   },
   "file_extension": ".py",
   "mimetype": "text/x-python",
   "name": "python",
   "nbconvert_exporter": "python",
   "pygments_lexer": "ipython3",
   "version": "3.7.6"
  }
 },
 "nbformat": 4,
 "nbformat_minor": 2
}
