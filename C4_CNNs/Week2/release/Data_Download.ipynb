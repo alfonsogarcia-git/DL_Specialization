{
 "cells": [
  {
   "cell_type": "code",
   "execution_count": 1,
   "metadata": {},
   "outputs": [
    {
     "name": "stdout",
     "output_type": "stream",
     "text": [
      "W2A1/\n",
      "W2A1/public_tests.py\n",
      "W2A1/.hidden\n",
      "W2A1/.ipynb_checkpoints/\n",
      "W2A1/.ipynb_checkpoints/Residual_Networks-checkpoint.ipynb\n",
      "W2A1/images/\n",
      "W2A1/images/my_image_5.jpeg\n",
      "W2A1/images/vanishing_grad_kiank.png\n",
      "W2A1/images/my_image_1.jpeg\n",
      "W2A1/images/idblock2_kiank.png\n",
      "W2A1/images/skip_connection_kiank.png\n",
      "W2A1/images/sant1.jpg\n",
      "W2A1/images/my_image_3.jpeg\n",
      "W2A1/images/convblock_kiank.png\n",
      "W2A1/images/resnet_kiank.png\n",
      "W2A1/images/signs_data_kiank.png\n",
      "W2A1/images/idblock3_kiank.png\n",
      "W2A1/images/my_image.jpg\n",
      "W2A1/.DS_Store\n",
      "W2A1/resnet50.h5\n",
      "W2A1/datasets/\n",
      "W2A1/datasets/train_signs.h5\n",
      "W2A1/datasets/test_signs.h5\n",
      "W2A1/__pycache__/\n",
      "W2A1/__pycache__/public_tests.cpython-36.pyc\n",
      "W2A1/__pycache__/test_utils.cpython-36.pyc\n",
      "W2A1/__pycache__/resnets_utils.cpython-36.pyc\n",
      "W2A1/__pycache__/outputs.cpython-36.pyc\n",
      "W2A1/Residual_Networks.ipynb\n",
      "W2A1/resnets_utils.py\n",
      "W2A1/outputs.py\n",
      "W2A1/test_utils.py\n"
     ]
    }
   ],
   "source": [
    "!tar cvzf W2A1.tar.gz W2A1/"
   ]
  },
  {
   "cell_type": "code",
   "execution_count": 6,
   "metadata": {},
   "outputs": [],
   "source": [
    "# Spliting the tar.gz file into 190MB parts to they can be downloaded\n",
    "# !split -b 190m MyImages.tar.gz MyImages.tar.gz.part."
   ]
  },
  {
   "cell_type": "code",
   "execution_count": 7,
   "metadata": {},
   "outputs": [],
   "source": [
    "# In local Terminal, go to the desired directory and run this code\n",
    "# !cat MyImages.tar.gz.part.* > MyImages.tar.gz"
   ]
  }
 ],
 "metadata": {
  "kernelspec": {
   "display_name": "Python 3",
   "language": "python",
   "name": "python3"
  },
  "language_info": {
   "codemirror_mode": {
    "name": "ipython",
    "version": 3
   },
   "file_extension": ".py",
   "mimetype": "text/x-python",
   "name": "python",
   "nbconvert_exporter": "python",
   "pygments_lexer": "ipython3",
   "version": "3.6.9"
  }
 },
 "nbformat": 4,
 "nbformat_minor": 2
}
