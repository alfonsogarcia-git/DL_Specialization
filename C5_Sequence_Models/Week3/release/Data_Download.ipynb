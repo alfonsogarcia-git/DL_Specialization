{
 "cells": [
  {
   "cell_type": "code",
   "execution_count": 2,
   "metadata": {},
   "outputs": [
    {
     "name": "stdout",
     "output_type": "stream",
     "text": [
      "W3A1/\n",
      "W3A1/models/\n",
      "W3A1/models/model.h5\n",
      "W3A1/.ipynb_checkpoints/\n",
      "W3A1/.ipynb_checkpoints/Neural_machine_translation_with_attention_v4a-checkpoint.ipynb\n",
      "W3A1/nmt_utils.py\n",
      "W3A1/images/\n",
      "W3A1/images/date_attention2.png\n",
      "W3A1/images/attn_model.png\n",
      "W3A1/images/date_attention.png\n",
      "W3A1/images/attn_mechanism.png\n",
      "W3A1/images/poorly_trained_model.png\n",
      "W3A1/images/table.png\n",
      "W3A1/generateTestCases.py\n",
      "W3A1/__pycache__/\n",
      "W3A1/__pycache__/test_utils.cpython-37.pyc\n",
      "W3A1/__pycache__/nmt_utils.cpython-37.pyc\n",
      "W3A1/Neural_machine_translation_with_attention_v4a.ipynb\n",
      "W3A1/test_utils.py\n"
     ]
    }
   ],
   "source": [
    "!tar cvzf W3A1.tar.gz W3A1/"
   ]
  },
  {
   "cell_type": "code",
   "execution_count": 6,
   "metadata": {},
   "outputs": [],
   "source": [
    "# Spliting the tar.gz file into 190MB parts to they can be downloaded\n",
    "# !split -b 190m MyImages.tar.gz MyImages.tar.gz.part."
   ]
  },
  {
   "cell_type": "code",
   "execution_count": 7,
   "metadata": {},
   "outputs": [],
   "source": [
    "# In local Terminal, go to the desired directory and run this code\n",
    "# !cat MyImages.tar.gz.part.* > MyImages.tar.gz"
   ]
  }
 ],
 "metadata": {
  "kernelspec": {
   "display_name": "Python 3",
   "language": "python",
   "name": "python3"
  },
  "language_info": {
   "codemirror_mode": {
    "name": "ipython",
    "version": 3
   },
   "file_extension": ".py",
   "mimetype": "text/x-python",
   "name": "python",
   "nbconvert_exporter": "python",
   "pygments_lexer": "ipython3",
   "version": "3.7.6"
  }
 },
 "nbformat": 4,
 "nbformat_minor": 2
}
