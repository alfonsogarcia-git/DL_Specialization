{
 "cells": [
  {
   "cell_type": "code",
   "execution_count": 1,
   "metadata": {},
   "outputs": [
    {
     "name": "stdout",
     "output_type": "stream",
     "text": [
      "W4A1/\n",
      "W4A1/self-attention.png\n",
      "W4A1/public_tests.py\n",
      "W4A1/C5_W4_A1_Transformer_Subclass_v1.ipynb\n",
      "W4A1/.ipynb_checkpoints/\n",
      "W4A1/.ipynb_checkpoints/C5_W4_A1_Transformer_Subclass_v1-checkpoint.ipynb\n",
      "W4A1/transformer.png\n",
      "W4A1/__pycache__/\n",
      "W4A1/__pycache__/public_tests.cpython-37.pyc\n",
      "W4A1/decoder.png\n",
      "W4A1/decoder_layer.png\n",
      "W4A1/ner.json\n",
      "W4A1/encoder.png\n",
      "W4A1/encoder_layer.png\n"
     ]
    }
   ],
   "source": [
    "!tar cvzf W4A1.tar.gz W4A1/"
   ]
  },
  {
   "cell_type": "code",
   "execution_count": 6,
   "metadata": {},
   "outputs": [],
   "source": [
    "# Spliting the tar.gz file into 190MB parts to they can be downloaded\n",
    "# !split -b 190m MyImages.tar.gz MyImages.tar.gz.part."
   ]
  },
  {
   "cell_type": "code",
   "execution_count": 7,
   "metadata": {},
   "outputs": [],
   "source": [
    "# In local Terminal, go to the desired directory and run this code\n",
    "# !cat MyImages.tar.gz.part.* > MyImages.tar.gz"
   ]
  }
 ],
 "metadata": {
  "kernelspec": {
   "display_name": "Python 3",
   "language": "python",
   "name": "python3"
  },
  "language_info": {
   "codemirror_mode": {
    "name": "ipython",
    "version": 3
   },
   "file_extension": ".py",
   "mimetype": "text/x-python",
   "name": "python",
   "nbconvert_exporter": "python",
   "pygments_lexer": "ipython3",
   "version": "3.7.6"
  }
 },
 "nbformat": 4,
 "nbformat_minor": 2
}
