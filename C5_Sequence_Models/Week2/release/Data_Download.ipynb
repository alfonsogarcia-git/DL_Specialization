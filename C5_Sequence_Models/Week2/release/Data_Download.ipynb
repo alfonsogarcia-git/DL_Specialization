{
 "cells": [
  {
   "cell_type": "code",
   "execution_count": 1,
   "metadata": {},
   "outputs": [
    {
     "name": "stdout",
     "output_type": "stream",
     "text": [
      "W2A1/\n",
      "W2A1/Operations_on_word_vectors_v2a.ipynb\n",
      "W2A1/data/\n",
      "W2A1/data/glove.6B.50d.txt\n",
      "W2A1/data/input.txt\n",
      "W2A1/data/input-Copy1.txt\n",
      "W2A1/.ipynb_checkpoints/\n",
      "W2A1/.ipynb_checkpoints/Operations_on_word_vectors_v2a-checkpoint.ipynb\n",
      "W2A1/w2v_utils.py\n",
      "W2A1/images/\n",
      "W2A1/images/equalize10.png\n",
      "W2A1/images/1-hot-vector.png\n",
      "W2A1/images/cosine_sim.png\n",
      "W2A1/images/neutralize.png\n",
      "W2A1/images/neutral.png\n",
      "W2A1/images/lookup.png\n",
      "W2A1/images/neutralize_kiank.png\n",
      "W2A1/.DS_Store\n",
      "W2A1/generateTestCases.py\n",
      "W2A1/__pycache__/\n",
      "W2A1/__pycache__/w2v_utils.cpython-38.pyc\n",
      "W2A1/__pycache__/w2v_utils.cpython-37.pyc\n"
     ]
    }
   ],
   "source": [
    "!tar cvzf W2A1.tar.gz W2A1/"
   ]
  },
  {
   "cell_type": "code",
   "execution_count": 6,
   "metadata": {},
   "outputs": [],
   "source": [
    "# Spliting the tar.gz file into 190MB parts to they can be downloaded\n",
    "# !split -b 190m MyImages.tar.gz MyImages.tar.gz.part."
   ]
  },
  {
   "cell_type": "code",
   "execution_count": 7,
   "metadata": {},
   "outputs": [],
   "source": [
    "# In local Terminal, go to the desired directory and run this code\n",
    "# !cat MyImages.tar.gz.part.* > MyImages.tar.gz"
   ]
  }
 ],
 "metadata": {
  "kernelspec": {
   "display_name": "Python 3",
   "language": "python",
   "name": "python3"
  },
  "language_info": {
   "codemirror_mode": {
    "name": "ipython",
    "version": 3
   },
   "file_extension": ".py",
   "mimetype": "text/x-python",
   "name": "python",
   "nbconvert_exporter": "python",
   "pygments_lexer": "ipython3",
   "version": "3.7.6"
  }
 },
 "nbformat": 4,
 "nbformat_minor": 2
}
